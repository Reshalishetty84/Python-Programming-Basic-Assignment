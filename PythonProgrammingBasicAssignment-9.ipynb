{
 "cells": [
  {
   "cell_type": "code",
   "execution_count": 1,
   "id": "c1885f0d",
   "metadata": {},
   "outputs": [
    {
     "name": "stdout",
     "output_type": "stream",
     "text": [
      "Enter the number: 175\n"
     ]
    },
    {
     "data": {
      "text/plain": [
       "'The number 175 is a disarium'"
      ]
     },
     "execution_count": 1,
     "metadata": {},
     "output_type": "execute_result"
    }
   ],
   "source": [
    "#1.Write a Python program to check if the given number is a Disarium Number?\n",
    "\n",
    "def disarium_check():\n",
    "    l=[]\n",
    "    num=input(\"Enter the number: \")\n",
    "    for i,j in enumerate(num, start=1):\n",
    "        l.append(pow(int(j),i))\n",
    "    if int(num)==sum(l):\n",
    "        return \"The number {} is a disarium\".format(num)\n",
    "    else:\n",
    "        return \"The number {} is not a disarium\".format(num)\n",
    "    \n",
    "disarium_check()"
   ]
  },
  {
   "cell_type": "code",
   "execution_count": 2,
   "id": "0b233cb8",
   "metadata": {
    "scrolled": true
   },
   "outputs": [
    {
     "name": "stdout",
     "output_type": "stream",
     "text": [
      "The disarium numbers from 1 to 100 are:\n",
      "1\n",
      "2\n",
      "3\n",
      "4\n",
      "5\n",
      "6\n",
      "7\n",
      "8\n",
      "9\n",
      "89\n"
     ]
    }
   ],
   "source": [
    "#2.Write a Python program to print all disarium numbers between 1 to 100?\n",
    "\n",
    "def disarium_check():\n",
    "    l=[]\n",
    "    print(\"The disarium numbers from 1 to 100 are:\")\n",
    "    for k in range(1,101):\n",
    "        s=str(k)\n",
    "        for i,j in enumerate(s, start=1):\n",
    "            l.append(pow(int(j),i))\n",
    "        if int(k)==sum(l):\n",
    "            print(k)\n",
    "        l.clear()\n",
    "    \n",
    "disarium_check()"
   ]
  },
  {
   "cell_type": "code",
   "execution_count": 3,
   "id": "a488f0eb",
   "metadata": {},
   "outputs": [
    {
     "name": "stdout",
     "output_type": "stream",
     "text": [
      "Enter a number: 19\n"
     ]
    },
    {
     "data": {
      "text/plain": [
       "'The number 19 is a happy number'"
      ]
     },
     "execution_count": 3,
     "metadata": {},
     "output_type": "execute_result"
    }
   ],
   "source": [
    "#3.Write a Python program to check if the given number is Happy Number?\n",
    "\n",
    "def isHappynumber():\n",
    "    n=int(input(\"Enter a number: \"))\n",
    "    if n == 1 or n == 7:\n",
    "        return True\n",
    "          \n",
    "    Sum, x = n, n\n",
    "    while Sum > 9:\n",
    "        Sum = 0\n",
    "        while x > 0:\n",
    "            d = x % 10\n",
    "            Sum += d * d\n",
    "            x = int(x / 10)\n",
    "         \n",
    "        if Sum == 1:\n",
    "            return \"The number {} is a happy number\".format(n)\n",
    "              \n",
    "        x = Sum\n",
    "     \n",
    "    if Sum == 7:\n",
    "        return \"The number {} is a happy number\".format(n)\n",
    "          \n",
    "    return \"The number {} is not a happy number\".format(n)\n",
    " \n",
    "isHappynumber()"
   ]
  },
  {
   "cell_type": "code",
   "execution_count": 4,
   "id": "73a28810",
   "metadata": {
    "scrolled": true
   },
   "outputs": [
    {
     "name": "stdout",
     "output_type": "stream",
     "text": [
      "List of happy numbers between 1 and 100: \n",
      "1\n",
      "7\n",
      "10\n",
      "13\n",
      "19\n",
      "23\n",
      "28\n",
      "31\n",
      "32\n",
      "44\n",
      "49\n",
      "68\n",
      "70\n",
      "79\n",
      "82\n",
      "86\n",
      "91\n",
      "94\n",
      "97\n",
      "100\n"
     ]
    }
   ],
   "source": [
    "#4.Write a Python program to print all happy numbers between 1 and 100?\n",
    "\n",
    "#isHappyNumber() will determine whether a number is happy or not    \n",
    "def isHappyNumber(num):    \n",
    "    rem = sum = 0;    \n",
    "        \n",
    "    #Calculates the sum of squares of digits    \n",
    "    while(num > 0):    \n",
    "        rem = num%10;    \n",
    "        sum = sum + (rem*rem);    \n",
    "        num = num//10;    \n",
    "    return sum;    \n",
    "            \n",
    "#Displays all happy numbers between 1 and 100    \n",
    "print(\"List of happy numbers between 1 and 100: \");    \n",
    "for i in range(1, 101):    \n",
    "    result = i;    \n",
    "        \n",
    "    #Happy number always ends with 1 and     \n",
    "    #unhappy number ends in a cycle of repeating numbers which contains 4    \n",
    "    while(result != 1 and result != 4):    \n",
    "        result = isHappyNumber(result);    \n",
    "        \n",
    "    if(result == 1):    \n",
    "        print(i)   "
   ]
  },
  {
   "cell_type": "code",
   "execution_count": 5,
   "id": "a8689642",
   "metadata": {},
   "outputs": [
    {
     "name": "stdout",
     "output_type": "stream",
     "text": [
      "Enter a number: 24\n"
     ]
    },
    {
     "data": {
      "text/plain": [
       "'The number 24 is a harshad number'"
      ]
     },
     "execution_count": 5,
     "metadata": {},
     "output_type": "execute_result"
    }
   ],
   "source": [
    "#5.Write a Python program to determine whether the given number is a Harshad Number?\n",
    "\n",
    "def harshad_number():\n",
    "    l=[]\n",
    "    num=input(\"Enter a number: \")\n",
    "    for i in num:\n",
    "        l.append(int(i))\n",
    "    total=sum(l)\n",
    "    if int(num)%total==0:\n",
    "        return \"The number {} is a harshad number\".format(num)\n",
    "    else:\n",
    "        return \"The number {} is not a harshad number\".format(num)\n",
    "\n",
    "harshad_number()"
   ]
  },
  {
   "cell_type": "code",
   "execution_count": 6,
   "id": "96481355",
   "metadata": {},
   "outputs": [
    {
     "name": "stdout",
     "output_type": "stream",
     "text": [
      "Pronic numbers between 1 and 100: \n",
      "2\n",
      "6\n",
      "12\n",
      "20\n",
      "30\n",
      "42\n",
      "56\n",
      "72\n",
      "90\n"
     ]
    }
   ],
   "source": [
    "#6.Write a Python program to print all pronic numbers between 1 and 100?\n",
    "\n",
    "def isPronicNumber(num):  \n",
    "    flag = False;  \n",
    "      \n",
    "    for j in range(1, num+1):  \n",
    "        #Checks for pronic number by multiplying consecutive numbers  \n",
    "        if((j*(j+1)) == num):  \n",
    "            flag = True;  \n",
    "            break;  \n",
    "    return flag;  \n",
    "   \n",
    "#Displays pronic numbers between 1 and 100  \n",
    "print(\"Pronic numbers between 1 and 100: \");  \n",
    "for i in range(1, 101):  \n",
    "    if(isPronicNumber(i)):  \n",
    "        print(i)"
   ]
  },
  {
   "cell_type": "code",
   "execution_count": null,
   "id": "b79abebd",
   "metadata": {},
   "outputs": [],
   "source": []
  }
 ],
 "metadata": {
  "kernelspec": {
   "display_name": "Python 3 (ipykernel)",
   "language": "python",
   "name": "python3"
  },
  "language_info": {
   "codemirror_mode": {
    "name": "ipython",
    "version": 3
   },
   "file_extension": ".py",
   "mimetype": "text/x-python",
   "name": "python",
   "nbconvert_exporter": "python",
   "pygments_lexer": "ipython3",
   "version": "3.9.13"
  }
 },
 "nbformat": 4,
 "nbformat_minor": 5
}
