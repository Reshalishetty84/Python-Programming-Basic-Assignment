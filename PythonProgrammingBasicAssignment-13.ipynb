{
 "cells": [
  {
   "cell_type": "code",
   "execution_count": 1,
   "id": "d78e9791",
   "metadata": {},
   "outputs": [
    {
     "name": "stdout",
     "output_type": "stream",
     "text": [
      "Enter the numbers in comma seperated sequence: 100,150,180\n",
      "18, 22, 24\n"
     ]
    }
   ],
   "source": [
    "#1.Write a program that calculates and prints the value according to the given formula:\n",
    "#Q = Square root of [(2 * C * D)/H]\n",
    "#Following are the fixed values of C and H:\n",
    "#C is 50. H is 30.\n",
    "#D is the variable whose values should be input to your program in a comma-separated sequence.\n",
    "#Example\n",
    "#Let us assume the following comma separated input sequence is given to the program:\n",
    "#100,150,180\n",
    "#The output of the program should be:\n",
    "#18,22,24\n",
    "\n",
    "def calculate_formula():\n",
    "    import math\n",
    "    num=input(\"Enter the numbers in comma seperated sequence: \")\n",
    "    l=[]\n",
    "    splitting=num.split(',')\n",
    "    for i in splitting:\n",
    "        formula=math.sqrt((2 * 50 * int(i))/30)\n",
    "        l.append(round(formula))\n",
    "    print(str(l).replace('[','').replace(']',''))\n",
    "\n",
    "calculate_formula()"
   ]
  },
  {
   "cell_type": "code",
   "execution_count": 2,
   "id": "1368b906",
   "metadata": {},
   "outputs": [
    {
     "name": "stdout",
     "output_type": "stream",
     "text": [
      "Enter two digits (X Y): 3,5\n",
      "[[0, 0, 0, 0, 0], [0, 1, 2, 3, 4], [0, 2, 4, 6, 8]]\n"
     ]
    }
   ],
   "source": [
    "#2.Write a program which takes 2 digits, X,Y as input and generates a 2-dimensional array. The element value in the i-th row and j-th column of the array should be i*j.\n",
    "#Note: i=0,1.., X-1; j=0,1,¡¬Y-1.\n",
    "#Example\n",
    "#Suppose the following inputs are given to the program:\n",
    "#3,5\n",
    "#Then, the output of the program should be:\n",
    "#[[0, 0, 0, 0, 0], [0, 1, 2, 3, 4], [0, 2, 4, 6, 8]] \n",
    "\n",
    "def generate_2d_array(X, Y):\n",
    "    array_2d = [[i * j for j in range(Y)] for i in range(X)]\n",
    "    return array_2d\n",
    "\n",
    "if __name__ == \"__main__\":\n",
    "    try:\n",
    "        X, Y = map(int, input(\"Enter two digits (X Y): \").split(\",\"))\n",
    "        if X < 0 or Y < 0:\n",
    "            print(\"Please enter non-negative values for X and Y.\")\n",
    "        else:\n",
    "            result = generate_2d_array(X, Y)\n",
    "            print(result)\n",
    "    except ValueError:\n",
    "        print(\"Invalid input. Please enter two integers separated by a comma.\")"
   ]
  },
  {
   "cell_type": "code",
   "execution_count": 3,
   "id": "a86e377e",
   "metadata": {},
   "outputs": [
    {
     "name": "stdout",
     "output_type": "stream",
     "text": [
      "Enter the comma separated sequence of words: without,hello,bag,world\n",
      "bag,hello,without,world\n"
     ]
    }
   ],
   "source": [
    "#3.Write a program that accepts a comma separated sequence of words as input and prints the words in a comma-separated sequence after sorting them alphabetically.\n",
    "#Suppose the following input is supplied to the program:\n",
    "#without,hello,bag,world\n",
    "#Then, the output should be:\n",
    "#bag,hello,without,world\n",
    "\n",
    "def sort_comma_seperated_words():\n",
    "    string=input(\"Enter the comma separated sequence of words: \")\n",
    "    split=string.split(',')\n",
    "    split.sort()\n",
    "    print(','.join(split))\n",
    "\n",
    "sort_comma_seperated_words()"
   ]
  },
  {
   "cell_type": "code",
   "execution_count": 4,
   "id": "69d64ae4",
   "metadata": {},
   "outputs": [
    {
     "name": "stdout",
     "output_type": "stream",
     "text": [
      "Enter the comma separated sequence of words: hello world and practice makes perfect and hello world again\n",
      "again and hello makes perfect practice world\n"
     ]
    }
   ],
   "source": [
    "#4.Write a program that accepts a sequence of whitespace separated words as input and prints the words after removing all duplicate words and sorting them alphanumerically.\n",
    "#Suppose the following input is supplied to the program:\n",
    "#hello world and practice makes perfect and hello world again\n",
    "#Then, the output should be:\n",
    "#again and hello makes perfect practice world\n",
    "\n",
    "def sort_remove_duplicates_words():\n",
    "    string=input(\"Enter the comma separated sequence of words: \")\n",
    "    split=string.split(' ')\n",
    "    remove_dup=list(set(split))\n",
    "    remove_dup.sort()\n",
    "    print(' '.join(remove_dup))\n",
    "\n",
    "sort_remove_duplicates_words()"
   ]
  },
  {
   "cell_type": "code",
   "execution_count": 6,
   "id": "150236c4",
   "metadata": {},
   "outputs": [
    {
     "name": "stdout",
     "output_type": "stream",
     "text": [
      "Enter the sentence: hello world! 123\n",
      "LETTERS 10\n",
      "DIGITS 3\n"
     ]
    }
   ],
   "source": [
    "#5.Write a program that accepts a sentence and calculate the number of letters and digits.\n",
    "#Suppose the following input is supplied to the program:\n",
    "#hello world! 123\n",
    "#Then, the output should be:\n",
    "#LETTERS 10\n",
    "#DIGITS 3\n",
    "\n",
    "def num_letter_digit():\n",
    "    sentence=input(\"Enter the sentence: \")\n",
    "    letters=[]\n",
    "    digit=[]\n",
    "    for i in sentence:\n",
    "        if i.isalpha():\n",
    "            letters.append(i)\n",
    "        elif i.isdigit():\n",
    "            digit.append(i)\n",
    "    print(\"LETTERS\",len(letters))\n",
    "    print(\"DIGITS\",len(digit))\n",
    "    \n",
    "num_letter_digit()"
   ]
  },
  {
   "cell_type": "code",
   "execution_count": 7,
   "id": "ff13c7db",
   "metadata": {},
   "outputs": [
    {
     "name": "stdout",
     "output_type": "stream",
     "text": [
      "Enter comma-separated passwords: ABd1234@1,a F1#,2w3E*,2We3345\n",
      "ABd1234@1\n"
     ]
    }
   ],
   "source": [
    "#6.A website requires the users to input username and password to register. Write a program to check the validity of password input by users.\n",
    "#Following are the criteria for checking the password:\n",
    "#1. At least 1 letter between [a-z]\n",
    "#2. At least 1 number between [0-9]\n",
    "#1. At least 1 letter between [A-Z]\n",
    "#3. At least 1 character from [$#@]\n",
    "#4. Minimum length of transaction password: 6\n",
    "#5. Maximum length of transaction password: 12\n",
    "#Your program should accept a sequence of comma separated passwords and will check them according to the above criteria. Passwords that match the criteria are to be printed, each separated by a comma.\n",
    "#Example\n",
    "#If the following passwords are given as input to the program:\n",
    "#ABd1234@1,a F1#,2w3E*,2We3345\n",
    "#Then, the output of the program should be:\n",
    "#ABd1234@1\n",
    "\n",
    "import re\n",
    "\n",
    "def is_valid_password(password):\n",
    "    if 6 <= len(password) <= 12:\n",
    "        if re.search(r'[a-z]', password) and \\\n",
    "           re.search(r'[A-Z]', password) and \\\n",
    "           re.search(r'[0-9]', password) and \\\n",
    "           re.search(r'[$#@]', password):\n",
    "            return True\n",
    "    return False\n",
    "\n",
    "if __name__ == \"__main__\":\n",
    "    passwords = input(\"Enter comma-separated passwords: \").split(',')\n",
    "    valid_passwords = [password for password in passwords if is_valid_password(password)]\n",
    "    print(','.join(valid_passwords))\n"
   ]
  },
  {
   "cell_type": "code",
   "execution_count": null,
   "id": "e1c4f959",
   "metadata": {},
   "outputs": [],
   "source": []
  }
 ],
 "metadata": {
  "kernelspec": {
   "display_name": "Python 3 (ipykernel)",
   "language": "python",
   "name": "python3"
  },
  "language_info": {
   "codemirror_mode": {
    "name": "ipython",
    "version": 3
   },
   "file_extension": ".py",
   "mimetype": "text/x-python",
   "name": "python",
   "nbconvert_exporter": "python",
   "pygments_lexer": "ipython3",
   "version": "3.9.13"
  }
 },
 "nbformat": 4,
 "nbformat_minor": 5
}
