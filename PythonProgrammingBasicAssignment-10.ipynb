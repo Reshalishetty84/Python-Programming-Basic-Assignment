{
 "cells": [
  {
   "cell_type": "code",
   "execution_count": 1,
   "id": "466bad7a",
   "metadata": {},
   "outputs": [
    {
     "name": "stdout",
     "output_type": "stream",
     "text": [
      "Enter the list of elements:1,2,3,4\n",
      "10\n"
     ]
    }
   ],
   "source": [
    "#1.Write a Python program to find sum of elements in list?\n",
    "\n",
    "def sum_elements_list():\n",
    "    l=input(\"Enter the list of elements:\").split(',')\n",
    "    count=0\n",
    "    for i in l:\n",
    "        count+=int(i)\n",
    "    print(count)\n",
    "    \n",
    "sum_elements_list()"
   ]
  },
  {
   "cell_type": "code",
   "execution_count": 2,
   "id": "3e56283a",
   "metadata": {},
   "outputs": [
    {
     "name": "stdout",
     "output_type": "stream",
     "text": [
      "Enter the list of elements:1,2,3,4\n",
      "24\n"
     ]
    }
   ],
   "source": [
    "#2.Write a Python program to  Multiply all numbers in the list?\n",
    "\n",
    "def multiply_elements_list():\n",
    "    l=input(\"Enter the list of elements:\").split(',')\n",
    "    count=1\n",
    "    for i in l:\n",
    "        count*=int(i)\n",
    "    print(count)\n",
    "    \n",
    "multiply_elements_list()"
   ]
  },
  {
   "cell_type": "code",
   "execution_count": 3,
   "id": "e4bf3410",
   "metadata": {},
   "outputs": [
    {
     "name": "stdout",
     "output_type": "stream",
     "text": [
      "Enter the list of elements:99,100,60,50,200,35\n",
      "The smallest number in a list is 35\n"
     ]
    }
   ],
   "source": [
    "#3.Write a Python program to find smallest number in a list?\n",
    "\n",
    "def smallest_number():\n",
    "    l=input(\"Enter the list of elements:\").split(',')\n",
    "    k=[]\n",
    "    for i in l:\n",
    "        k.append(int(i))\n",
    "    k.sort()\n",
    "    print(\"The smallest number in a list is\",k[0])\n",
    "    \n",
    "smallest_number()"
   ]
  },
  {
   "cell_type": "code",
   "execution_count": 4,
   "id": "aa08614c",
   "metadata": {},
   "outputs": [
    {
     "name": "stdout",
     "output_type": "stream",
     "text": [
      "Enter the list of elements:200,10000,66,70\n",
      "The largest number in a list is 10000\n"
     ]
    }
   ],
   "source": [
    "#4.Write a Python program to find largest number in a list?\n",
    "\n",
    "def largest_number():\n",
    "    l=input(\"Enter the list of elements:\").split(',')\n",
    "    count=0\n",
    "    for i in l:\n",
    "        if int(i)>count:\n",
    "            count=int(i)\n",
    "    print(\"The largest number in a list is\",count)\n",
    "    \n",
    "largest_number()"
   ]
  },
  {
   "cell_type": "code",
   "execution_count": 5,
   "id": "08a220b1",
   "metadata": {},
   "outputs": [
    {
     "name": "stdout",
     "output_type": "stream",
     "text": [
      "Enter the list of elements:200,10000,66,70\n",
      "The second largest number in a list is 200\n"
     ]
    }
   ],
   "source": [
    "#5.Write a Python program to find second largest number in a list?\n",
    "\n",
    "def second_largest_number():\n",
    "    l=input(\"Enter the list of elements:\").split(',')\n",
    "    a=[]\n",
    "    for i in l:\n",
    "        a.append(int(i))\n",
    "    a.sort(reverse=True)\n",
    "    print(\"The second largest number in a list is\",a[1])\n",
    "    \n",
    "second_largest_number()"
   ]
  },
  {
   "cell_type": "code",
   "execution_count": 6,
   "id": "e68fe778",
   "metadata": {},
   "outputs": [
    {
     "name": "stdout",
     "output_type": "stream",
     "text": [
      "Enter the list of elements:4, 5, 1, 2, 9\n",
      "Enter the number to find N largest elements from a list: 2\n",
      "The N largest number in a list is [9, 5]\n"
     ]
    }
   ],
   "source": [
    "#6.Write a Python program to find N largest elements from a list?\n",
    "\n",
    "def N_largest_number():\n",
    "    l=input(\"Enter the list of elements:\").split(',')\n",
    "    a,x=[],int(input(\"Enter the number to find N largest elements from a list: \"))\n",
    "    for i in l:\n",
    "        a.append(int(i))\n",
    "    a.sort(reverse=True)\n",
    "    print(\"The N largest number in a list is\",a[:x])\n",
    "    \n",
    "N_largest_number()"
   ]
  },
  {
   "cell_type": "code",
   "execution_count": 7,
   "id": "c96fcca6",
   "metadata": {},
   "outputs": [
    {
     "name": "stdout",
     "output_type": "stream",
     "text": [
      "Enter the list of elements:68,34,10000,55,99,39\n",
      "The even numbers in the list are:\n",
      "68\n",
      "34\n",
      "10000\n"
     ]
    }
   ],
   "source": [
    "#7.Write a Python program to print even numbers in a list?\n",
    "\n",
    "def even_num():\n",
    "    listitems=input(\"Enter the list of elements:\").split(',')\n",
    "    print(\"The even numbers in the list are:\")\n",
    "    for i in listitems:\n",
    "        if int(i)%2==0:\n",
    "            print(i)\n",
    "            \n",
    "even_num()"
   ]
  },
  {
   "cell_type": "code",
   "execution_count": 8,
   "id": "a4216902",
   "metadata": {},
   "outputs": [
    {
     "name": "stdout",
     "output_type": "stream",
     "text": [
      "Enter the list of elements:99,35,68,77\n",
      "The odd numbers in the list are:\n",
      "99\n",
      "35\n",
      "77\n"
     ]
    }
   ],
   "source": [
    "#8.Write a Python program to print odd numbers in a List?\n",
    "\n",
    "def odd_num():\n",
    "    listitems=input(\"Enter the list of elements:\").split(',')\n",
    "    print(\"The odd numbers in the list are:\")\n",
    "    for i in listitems:\n",
    "        if int(i)%2!=0:\n",
    "            print(i)\n",
    "            \n",
    "odd_num()"
   ]
  },
  {
   "cell_type": "code",
   "execution_count": 9,
   "id": "47544bea",
   "metadata": {},
   "outputs": [
    {
     "name": "stdout",
     "output_type": "stream",
     "text": [
      "Enter the list of elements:1,6,[],9,[],15,4\n"
     ]
    },
    {
     "data": {
      "text/plain": [
       "[1, 6, 9, 15, 4]"
      ]
     },
     "execution_count": 9,
     "metadata": {},
     "output_type": "execute_result"
    }
   ],
   "source": [
    "#9.Write a Python program to Remove empty List from List?\n",
    "\n",
    "def remove_empty_list():\n",
    "    l=[]\n",
    "    listitems=input(\"Enter the list of elements:\").split(',')\n",
    "    for i in listitems:\n",
    "        if i!='[]':\n",
    "            l.append(int(i))\n",
    "    return l  \n",
    "\n",
    "remove_empty_list()"
   ]
  },
  {
   "cell_type": "code",
   "execution_count": 10,
   "id": "69d80c78",
   "metadata": {},
   "outputs": [
    {
     "name": "stdout",
     "output_type": "stream",
     "text": [
      "Original List: [4, 8, 2, 10, 15, 18]\n",
      "After Cloning: [4, 8, 2, 10, 15, 18]\n"
     ]
    }
   ],
   "source": [
    "#10.Write a Python program to Cloning or Copying a list?\n",
    "\n",
    "def Cloning(li1):\n",
    "    li_copy = li1[:]\n",
    "    return li_copy\n",
    "\n",
    "# Driver Code\n",
    "li1 = [4, 8, 2, 10, 15, 18]\n",
    "li2 = Cloning(li1)\n",
    "print(\"Original List:\", li1)\n",
    "print(\"After Cloning:\", li2)"
   ]
  },
  {
   "cell_type": "code",
   "execution_count": 11,
   "id": "dfe36627",
   "metadata": {},
   "outputs": [
    {
     "name": "stdout",
     "output_type": "stream",
     "text": [
      "Enter the list of elements:6,9,8,10,10,60,10,35,78,10\n",
      "Enter the number to Count the occurrences of an element in a list: 10\n"
     ]
    },
    {
     "data": {
      "text/plain": [
       "'The occurance of the element 10 is 4'"
      ]
     },
     "execution_count": 11,
     "metadata": {},
     "output_type": "execute_result"
    }
   ],
   "source": [
    "#11.Write a Python program to Count occurrences of an element in a list?\n",
    "\n",
    "def element_count():\n",
    "    l=input(\"Enter the list of elements:\").split(',')\n",
    "    k,x=[],int(input(\"Enter the number to Count the occurrences of an element in a list: \"))\n",
    "    for i in l:\n",
    "        if int(i)==x:\n",
    "            k.append(int(i))\n",
    "    return \"The occurance of the element {} is {}\".format(x,len(k))\n",
    "    \n",
    "element_count()"
   ]
  },
  {
   "cell_type": "code",
   "execution_count": null,
   "id": "dc3646eb",
   "metadata": {},
   "outputs": [],
   "source": []
  }
 ],
 "metadata": {
  "kernelspec": {
   "display_name": "Python 3 (ipykernel)",
   "language": "python",
   "name": "python3"
  },
  "language_info": {
   "codemirror_mode": {
    "name": "ipython",
    "version": 3
   },
   "file_extension": ".py",
   "mimetype": "text/x-python",
   "name": "python",
   "nbconvert_exporter": "python",
   "pygments_lexer": "ipython3",
   "version": "3.9.13"
  }
 },
 "nbformat": 4,
 "nbformat_minor": 5
}
