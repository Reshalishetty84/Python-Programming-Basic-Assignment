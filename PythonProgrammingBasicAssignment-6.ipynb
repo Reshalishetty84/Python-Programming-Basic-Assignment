{
 "cells": [
  {
   "cell_type": "code",
   "execution_count": 1,
   "id": "9f4a07e4",
   "metadata": {},
   "outputs": [
    {
     "name": "stdout",
     "output_type": "stream",
     "text": [
      "Enter a number: 10\n",
      "Fibonacci sequence:\n",
      "0\n",
      "1\n",
      "1\n",
      "2\n",
      "3\n",
      "5\n",
      "8\n",
      "13\n",
      "21\n",
      "34\n"
     ]
    }
   ],
   "source": [
    "#1.Write a Python Program to Display Fibonacci Sequence Using Recursion?\n",
    "\n",
    "def recur_fibo(n):\n",
    "    if n <= 1:\n",
    "        return n\n",
    "    else:\n",
    "        return(recur_fibo(n-1) + recur_fibo(n-2))\n",
    "\n",
    "nterms=int(input(\"Enter a number: \"))\n",
    "# check if the number of terms is valid\n",
    "if nterms <= 0:\n",
    "    print(\"Plese enter a positive integer\")\n",
    "else:\n",
    "    print(\"Fibonacci sequence:\")\n",
    "    for i in range(nterms):\n",
    "        print(recur_fibo(i))"
   ]
  },
  {
   "cell_type": "code",
   "execution_count": 2,
   "id": "5d215539",
   "metadata": {},
   "outputs": [
    {
     "name": "stdout",
     "output_type": "stream",
     "text": [
      "Enter a number: 7\n",
      "The factorial of 7 is 5040\n"
     ]
    }
   ],
   "source": [
    "#2.Write a Python Program to Find Factorial of Number Using Recursion?\n",
    "\n",
    "def recur_factorial(n):\n",
    "    if n == 1:\n",
    "        return n\n",
    "    else:\n",
    "        return n*recur_factorial(n-1)\n",
    "\n",
    "num = int(input(\"Enter a number: \"))\n",
    "\n",
    "# check if the number is negative\n",
    "if num < 0:\n",
    "    print(\"Sorry, factorial does not exist for negative numbers\")\n",
    "elif num == 0:\n",
    "    print(\"The factorial of 0 is 1\")\n",
    "else:\n",
    "    print(\"The factorial of\", num, \"is\", recur_factorial(num))\n"
   ]
  },
  {
   "cell_type": "code",
   "execution_count": 3,
   "id": "f8747bb9",
   "metadata": {},
   "outputs": [
    {
     "name": "stdout",
     "output_type": "stream",
     "text": [
      "Enter your weight in kg: 85\n",
      "Enter your height in metres: 1.58496\n"
     ]
    },
    {
     "data": {
      "text/plain": [
       "'The body mass index is 33.836256857260594 so Suffering from Obesity'"
      ]
     },
     "execution_count": 3,
     "metadata": {},
     "output_type": "execute_result"
    }
   ],
   "source": [
    "#3.Write a Python Program to calculate your Body Mass Index?\n",
    "\n",
    "def Body_Mass_Index():\n",
    "    weight=float(input(\"Enter your weight in kg: \"))\n",
    "    height=float(input(\"Enter your height in metres: \"))\n",
    "    bmi = weight/(height**2)\n",
    "    # Conditions to find out BMI category\n",
    "    if (bmi < 18.5):\n",
    "        return \"The body mass index is {} so underweight\".format(bmi)\n",
    "    elif ( bmi >= 18.5 and bmi < 24.9):\n",
    "        return \"The body mass index is {} so Healthy\".format(bmi)\n",
    "    elif ( bmi >= 24.9 and bmi < 30):\n",
    "        return \"The body mass index is {} so overweight\".format(bmi)\n",
    "    elif ( bmi >=30):\n",
    "        return \"The body mass index is {} so Suffering from Obesity\".format(bmi)\n",
    "\n",
    "Body_Mass_Index()"
   ]
  },
  {
   "cell_type": "code",
   "execution_count": 4,
   "id": "70d56763",
   "metadata": {},
   "outputs": [
    {
     "name": "stdout",
     "output_type": "stream",
     "text": [
      "Enter the number: 5\n"
     ]
    },
    {
     "data": {
      "text/plain": [
       "'The Logarithm of 5.0 is 1.6094379124341003'"
      ]
     },
     "execution_count": 4,
     "metadata": {},
     "output_type": "execute_result"
    }
   ],
   "source": [
    "#4.Write a Python Program to calculate the natural logarithm of any number?\n",
    "\n",
    "import math\n",
    "def Log_num():\n",
    "    num=float(input(\"Enter the number: \"))\n",
    "    return \"The Logarithm of {} is {}\".format(num,math.log(num))\n",
    "\n",
    "Log_num()"
   ]
  },
  {
   "cell_type": "code",
   "execution_count": 5,
   "id": "f5ca9725",
   "metadata": {},
   "outputs": [
    {
     "name": "stdout",
     "output_type": "stream",
     "text": [
      "Enter the start range: 1\n",
      "Enter the end range: 7\n"
     ]
    },
    {
     "data": {
      "text/plain": [
       "'The cube of the natural number in the given range is 784'"
      ]
     },
     "execution_count": 5,
     "metadata": {},
     "output_type": "execute_result"
    }
   ],
   "source": [
    "#5.Write a Python Program for cube sum of first n natural numbers?\n",
    "\n",
    "def Cube_Natural_Number():\n",
    "    l=[]\n",
    "    start=int(input(\"Enter the start range: \"))\n",
    "    end=int(input(\"Enter the end range: \"))\n",
    "    for i in range(start,end+1):\n",
    "        i=i**3\n",
    "        l.append(i)\n",
    "    return \"The cube of the natural number in the given range is {}\".format(sum(l))\n",
    "        \n",
    "Cube_Natural_Number()"
   ]
  },
  {
   "cell_type": "code",
   "execution_count": null,
   "id": "57db1e41",
   "metadata": {},
   "outputs": [],
   "source": []
  }
 ],
 "metadata": {
  "kernelspec": {
   "display_name": "Python 3 (ipykernel)",
   "language": "python",
   "name": "python3"
  },
  "language_info": {
   "codemirror_mode": {
    "name": "ipython",
    "version": 3
   },
   "file_extension": ".py",
   "mimetype": "text/x-python",
   "name": "python",
   "nbconvert_exporter": "python",
   "pygments_lexer": "ipython3",
   "version": "3.9.13"
  }
 },
 "nbformat": 4,
 "nbformat_minor": 5
}
