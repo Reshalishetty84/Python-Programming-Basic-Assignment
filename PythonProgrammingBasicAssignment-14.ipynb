{
 "cells": [
  {
   "cell_type": "code",
   "execution_count": 1,
   "id": "91f93afc",
   "metadata": {},
   "outputs": [
    {
     "name": "stdout",
     "output_type": "stream",
     "text": [
      "0\n",
      "7\n",
      "14\n",
      "21\n",
      "28\n",
      "35\n",
      "42\n",
      "49\n",
      "56\n",
      "63\n",
      "70\n",
      "77\n",
      "84\n",
      "91\n",
      "98\n"
     ]
    }
   ],
   "source": [
    "#1.Define a class with a generator which can iterate the numbers, which are divisible by 7, between a given range 0 and n.\n",
    "\n",
    "class DivisibleBySevenGenerator:\n",
    "    def __init__(self, n):\n",
    "        self.n = n\n",
    "\n",
    "    def is_divisible_by_seven(self, num):\n",
    "        return num % 7 == 0\n",
    "\n",
    "    def generate_divisible_by_seven(self):\n",
    "        for num in range(self.n + 1):\n",
    "            if self.is_divisible_by_seven(num):\n",
    "                yield num\n",
    "\n",
    "n = 100  # Replace this with your desired value of n\n",
    "generator = DivisibleBySevenGenerator(n)\n",
    "for num in generator.generate_divisible_by_seven():\n",
    "    print(num)\n"
   ]
  },
  {
   "cell_type": "code",
   "execution_count": 2,
   "id": "64337405",
   "metadata": {},
   "outputs": [
    {
     "name": "stdout",
     "output_type": "stream",
     "text": [
      "Enter the string: New to Python or choosing between Python 2 and Python 3? Read Python 2 or Python 3.\n"
     ]
    },
    {
     "data": {
      "text/plain": [
       "Counter({'New': 1,\n",
       "         'to': 1,\n",
       "         'Python': 5,\n",
       "         'or': 2,\n",
       "         'choosing': 1,\n",
       "         'between': 1,\n",
       "         '2': 2,\n",
       "         'and': 1,\n",
       "         '3?': 1,\n",
       "         'Read': 1,\n",
       "         '3.': 1})"
      ]
     },
     "execution_count": 2,
     "metadata": {},
     "output_type": "execute_result"
    }
   ],
   "source": [
    "#2.Write a program to compute the frequency of the words from the input. The output should output after sorting the key alphanumerically. \n",
    "#Suppose the following input is supplied to the program:\n",
    "#New to Python or choosing between Python 2 and Python 3? Read Python 2 or Python 3.\n",
    "#Then, the output should be:\n",
    "#2:2\n",
    "#3.:1\n",
    "#3?:1\n",
    "#New:1\n",
    "#Python:5\n",
    "#Read:1\n",
    "#and:1\n",
    "#between:1\n",
    "#choosing:1\n",
    "#or:2\n",
    "#to:1\n",
    "\n",
    "from collections import Counter\n",
    "def word_frequency():\n",
    "    string=input(\"Enter the string: \")\n",
    "    str_split=string.split(' ')\n",
    "    collection = Counter(str_split)\n",
    "    return collection\n",
    "\n",
    "word_frequency()"
   ]
  },
  {
   "cell_type": "code",
   "execution_count": 3,
   "id": "7d6231b8",
   "metadata": {},
   "outputs": [
    {
     "name": "stdout",
     "output_type": "stream",
     "text": [
      "Male\n",
      "Female\n"
     ]
    }
   ],
   "source": [
    "#3.Define a class Person and its two child classes: Male and Female. All classes have a method \"getGender\" which can print \"Male\" for Male class and \"Female\" for Female class.\n",
    "\n",
    "class Person:\n",
    "    def getGender(self):\n",
    "        pass\n",
    "        \n",
    "class Male(Person):\n",
    "    def getGender(self):\n",
    "        print(\"Male\")\n",
    "        \n",
    "class Female(Person):\n",
    "    def getGender(self):\n",
    "        print(\"Female\")\n",
    "        \n",
    "person1 = Male()\n",
    "person2 = Female()\n",
    "\n",
    "person1.getGender() \n",
    "person2.getGender() "
   ]
  },
  {
   "cell_type": "code",
   "execution_count": 4,
   "id": "6e9a5777",
   "metadata": {},
   "outputs": [
    {
     "name": "stdout",
     "output_type": "stream",
     "text": [
      "I Play Hockey.\n",
      "I Play Football.\n",
      "I Love Hockey.\n",
      "I Love Football.\n",
      "You Play Hockey.\n",
      "You Play Football.\n",
      "You Love Hockey.\n",
      "You Love Football.\n"
     ]
    }
   ],
   "source": [
    "#4.Please write a program to generate all sentences where subject is in [\"I\", \"You\"] and verb is in [\"Play\", \"Love\"] and the object is in [\"Hockey\",\"Football\"].\n",
    "\n",
    "def sentence_generator():\n",
    "    subjects = [\"I\", \"You\"]\n",
    "    verbs = [\"Play\", \"Love\"]\n",
    "    objects = [\"Hockey\", \"Football\"]\n",
    "\n",
    "    sentences = []\n",
    "\n",
    "    for subject in subjects:\n",
    "        for verb in verbs:\n",
    "            for obj in objects:\n",
    "                sentence = f\"{subject} {verb} {obj}.\"\n",
    "                sentences.append(sentence)\n",
    "\n",
    "    for sentence in sentences:\n",
    "        print(sentence)\n",
    "\n",
    "        \n",
    "sentence_generator()"
   ]
  },
  {
   "cell_type": "code",
   "execution_count": 5,
   "id": "489ffda5",
   "metadata": {},
   "outputs": [
    {
     "name": "stdout",
     "output_type": "stream",
     "text": [
      "Enter the string: hello world!hello world!hello world!hello world!\n",
      "compressed string is b'x\\x9c\\xcbH\\xcd\\xc9\\xc9W(\\xcf/\\xcaIQ\\xcc \\x82\\r\\x00\\xbd[\\x11\\xf5'\n",
      "decompressed string is hello world!hello world!hello world!hello world!\n"
     ]
    }
   ],
   "source": [
    "#5.Please write a program to compress and decompress the string \"hello world!hello world!hello world!hello world!\".\n",
    "\n",
    "import zlib\n",
    "def compress_decompress_string():\n",
    "    input_string=input(\"Enter the string: \")\n",
    "    compressed_data = zlib.compress(input_string.encode('utf-8'))\n",
    "    decompressed_string = zlib.decompress(compressed_data).decode('utf-8')\n",
    "    print(\"compressed string is\",compressed_data)\n",
    "    print(\"decompressed string is\",decompressed_string) \n",
    "\n",
    "compress_decompress_string()"
   ]
  },
  {
   "cell_type": "code",
   "execution_count": 6,
   "id": "55d3c410",
   "metadata": {},
   "outputs": [
    {
     "name": "stdout",
     "output_type": "stream",
     "text": [
      "Element 15 found at index 4.\n"
     ]
    }
   ],
   "source": [
    "#6.Please write a binary search function which searches an item in a sorted list. The function should return the index of element to be searched in the list.\n",
    "\n",
    "def binary_search(arr, target):\n",
    "    low, high = 0, len(arr) - 1\n",
    "\n",
    "    while low <= high:\n",
    "        mid = (low + high) // 2\n",
    "\n",
    "        if arr[mid] == target:\n",
    "            return mid\n",
    "        elif arr[mid] < target:\n",
    "            low = mid + 1\n",
    "        else:\n",
    "            high = mid - 1\n",
    "\n",
    "    return -1  # If the target is not found, return -1\n",
    "\n",
    "# Example usage:\n",
    "sorted_list = [2, 5, 7, 10, 15, 20, 25, 30]\n",
    "target_element = 15\n",
    "\n",
    "index = binary_search(sorted_list, target_element)\n",
    "\n",
    "if index != -1:\n",
    "    print(f\"Element {target_element} found at index {index}.\")\n",
    "else:\n",
    "    print(f\"Element {target_element} not found in the list.\")\n"
   ]
  },
  {
   "cell_type": "code",
   "execution_count": null,
   "id": "bf366eec",
   "metadata": {},
   "outputs": [],
   "source": []
  }
 ],
 "metadata": {
  "kernelspec": {
   "display_name": "Python 3 (ipykernel)",
   "language": "python",
   "name": "python3"
  },
  "language_info": {
   "codemirror_mode": {
    "name": "ipython",
    "version": 3
   },
   "file_extension": ".py",
   "mimetype": "text/x-python",
   "name": "python",
   "nbconvert_exporter": "python",
   "pygments_lexer": "ipython3",
   "version": "3.9.13"
  }
 },
 "nbformat": 4,
 "nbformat_minor": 5
}
