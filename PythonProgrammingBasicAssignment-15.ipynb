{
 "cells": [
  {
   "cell_type": "code",
   "execution_count": 1,
   "id": "6c37b6ed",
   "metadata": {},
   "outputs": [
    {
     "name": "stdout",
     "output_type": "stream",
     "text": [
      "Enter the value of n: 100\n",
      "0,35,70\n"
     ]
    }
   ],
   "source": [
    "#1.Please write a program using generator to print the numbers which can be divisible by 5 and 7 between 0 and n in comma separated form while n is input by console.\n",
    "#Example:\n",
    "#If the following n is given as input to the program:\n",
    "#100\n",
    "#Then, the output of the program should be:\n",
    "#0,35,70\n",
    "\n",
    "def generate_numbers(n):\n",
    "    for i in range(n + 1):\n",
    "        if i % 5 == 0 and i % 7 == 0:\n",
    "            yield i\n",
    "\n",
    "def main():\n",
    "    n = int(input(\"Enter the value of n: \"))\n",
    "    result = generate_numbers(n)\n",
    "    output = \",\".join(map(str, result))\n",
    "    print(output)\n",
    "\n",
    "main()"
   ]
  },
  {
   "cell_type": "code",
   "execution_count": 2,
   "id": "b3df82c9",
   "metadata": {},
   "outputs": [
    {
     "name": "stdout",
     "output_type": "stream",
     "text": [
      "Enter the value of n: 10\n",
      "0,2,4,6,8,10\n"
     ]
    }
   ],
   "source": [
    "#2.Please write a program using generator to print the even numbers between 0 and n in comma separated form while n is input by console.\n",
    "#Example:\n",
    "#If the following n is given as input to the program:\n",
    "#10\n",
    "#Then, the output of the program should be:\n",
    "#0,2,4,6,8,10\n",
    "\n",
    "def generate_Even_numbers(n):\n",
    "    for i in range(n + 1):\n",
    "        if i % 2 == 0:\n",
    "            yield i\n",
    "\n",
    "n = int(input(\"Enter the value of n: \"))\n",
    "result = generate_Even_numbers(n)\n",
    "output = \",\".join(map(str, result))\n",
    "print(output)"
   ]
  },
  {
   "cell_type": "code",
   "execution_count": 3,
   "id": "af282d69",
   "metadata": {
    "scrolled": true
   },
   "outputs": [
    {
     "name": "stdout",
     "output_type": "stream",
     "text": [
      "Enter the value of n: 7\n",
      "0,1,1,2,3,5,8,13\n"
     ]
    }
   ],
   "source": [
    "#3.The Fibonacci Sequence is computed based on the following formula:\n",
    "#f(n)=0 if n=0\n",
    "#f(n)=1 if n=1\n",
    "#f(n)=f(n-1)+f(n-2) if n>1\n",
    "#Please write a program using list comprehension to print the Fibonacci Sequence in comma separated form with a given n input by console.\n",
    "#Example:\n",
    "#If the following n is given as input to the program:\n",
    "#7\n",
    "#Then, the output of the program should be:\n",
    "#0,1,1,2,3,5,8,13\n",
    "\n",
    "def fibonacci_sequence(n):\n",
    "    sequence = [0, 1]\n",
    "    for i in range(2, n+1):\n",
    "        sequence.append(sequence[i-1] + sequence[i-2])\n",
    "    return sequence\n",
    "\n",
    "n = int(input(\"Enter the value of n: \"))\n",
    "result = fibonacci_sequence(n)\n",
    "output = \",\".join(map(str, result))\n",
    "print(output)\n"
   ]
  },
  {
   "cell_type": "code",
   "execution_count": 4,
   "id": "0ea67f72",
   "metadata": {},
   "outputs": [
    {
     "name": "stdout",
     "output_type": "stream",
     "text": [
      "Enter the Email:john@google.com\n"
     ]
    },
    {
     "data": {
      "text/plain": [
       "'john'"
      ]
     },
     "execution_count": 4,
     "metadata": {},
     "output_type": "execute_result"
    }
   ],
   "source": [
    "#4.Assuming that we have some email addresses in the \"username@companyname.com\" format, please write program to print the user name of a given email address. Both user names and company names are composed of letters only.\n",
    "#Example:\n",
    "#If the following email address is given as input to the program:\n",
    "#john@google.com\n",
    "#Then, the output of the program should be:\n",
    "#john\n",
    "\n",
    "def Username_Email():\n",
    "    email=input(\"Enter the Email:\")\n",
    "    Username=email.split('@')[0]\n",
    "    return Username\n",
    "\n",
    "Username_Email()"
   ]
  },
  {
   "cell_type": "code",
   "execution_count": 5,
   "id": "b3f1de63",
   "metadata": {},
   "outputs": [
    {
     "name": "stdout",
     "output_type": "stream",
     "text": [
      "Area of generic shape: 0\n",
      "Area of square: 16\n"
     ]
    }
   ],
   "source": [
    "#5.Define a class named Shape and its subclass Square. The Square class has an init function which takes a length as argument. Both classes have a area function which can print the area of the shape where Shape's area is 0 by default.\n",
    "\n",
    "class Shape:\n",
    "    def __init__(self):\n",
    "        pass\n",
    "\n",
    "    def area(self):\n",
    "        return 0\n",
    "\n",
    "class Square(Shape):\n",
    "    def __init__(self, length):\n",
    "        super().__init__()\n",
    "        self.length = length\n",
    "\n",
    "    def area(self):\n",
    "        # Area of a square is length squared\n",
    "        return self.length ** 2\n",
    "\n",
    "def main():\n",
    "    shape = Shape()\n",
    "    print(\"Area of generic shape:\", shape.area())\n",
    "\n",
    "    square = Square(4)\n",
    "    print(\"Area of square:\", square.area())\n",
    "\n",
    "\n",
    "main()\n"
   ]
  },
  {
   "cell_type": "code",
   "execution_count": null,
   "id": "572f1676",
   "metadata": {},
   "outputs": [],
   "source": []
  }
 ],
 "metadata": {
  "kernelspec": {
   "display_name": "Python 3 (ipykernel)",
   "language": "python",
   "name": "python3"
  },
  "language_info": {
   "codemirror_mode": {
    "name": "ipython",
    "version": 3
   },
   "file_extension": ".py",
   "mimetype": "text/x-python",
   "name": "python",
   "nbconvert_exporter": "python",
   "pygments_lexer": "ipython3",
   "version": "3.9.13"
  }
 },
 "nbformat": 4,
 "nbformat_minor": 5
}
