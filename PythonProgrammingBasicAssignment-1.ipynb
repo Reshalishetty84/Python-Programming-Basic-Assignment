{
 "cells": [
  {
   "cell_type": "code",
   "execution_count": 1,
   "id": "258ad157",
   "metadata": {},
   "outputs": [
    {
     "name": "stdout",
     "output_type": "stream",
     "text": [
      "Enter a string: Hello Python\n",
      "Hello Python\n"
     ]
    }
   ],
   "source": [
    "#1.Write a Python program to print \"Hello Python\"?\n",
    "\n",
    "string=input(\"Enter a string: \")\n",
    "print(string)"
   ]
  },
  {
   "cell_type": "code",
   "execution_count": 2,
   "id": "74142e8c",
   "metadata": {},
   "outputs": [
    {
     "name": "stdout",
     "output_type": "stream",
     "text": [
      "Enter first number:2\n",
      "Enter second number:3\n",
      "Addition is: 5\n",
      "Division is: 1.5\n"
     ]
    }
   ],
   "source": [
    "#2.Write a Python program to do arithmetical operations addition and division.?\n",
    "\n",
    "a=int(input(\"Enter first number:\"))\n",
    "b=int(input(\"Enter second number:\"))\n",
    "addition=a+b\n",
    "division=b/a\n",
    "print(\"Addition is:\",addition)\n",
    "print(\"Division is:\",division)"
   ]
  },
  {
   "cell_type": "code",
   "execution_count": 3,
   "id": "ae2fddcd",
   "metadata": {},
   "outputs": [
    {
     "name": "stdout",
     "output_type": "stream",
     "text": [
      "Enter the base of triangle: 4\n",
      "Enter the height of triangle: 3\n",
      "Area of a triangle is 6.0\n"
     ]
    }
   ],
   "source": [
    "#3.Write a Python program to find the area of a triangle?\n",
    "\n",
    "base=float(input(\"Enter the base of triangle: \"))\n",
    "height=float(input(\"Enter the height of triangle: \"))\n",
    "area=0.5*base*height\n",
    "print(\"Area of a triangle is\",area)"
   ]
  },
  {
   "cell_type": "code",
   "execution_count": 4,
   "id": "fed4d9a8",
   "metadata": {},
   "outputs": [
    {
     "name": "stdout",
     "output_type": "stream",
     "text": [
      "Enter first number:3.2\n",
      "Enter second number:4.5\n",
      "The numbers after swaping are 4.5 and 3.2\n"
     ]
    }
   ],
   "source": [
    "#4.Write a Python program to swap two variables?\n",
    "\n",
    "a=float(input(\"Enter first number:\"))\n",
    "b=float(input(\"Enter second number:\"))\n",
    "temp=a\n",
    "a=b\n",
    "b=temp\n",
    "print(\"The numbers after swaping are\",a,\"and\",b)"
   ]
  },
  {
   "cell_type": "code",
   "execution_count": 5,
   "id": "28790821",
   "metadata": {
    "scrolled": true
   },
   "outputs": [
    {
     "data": {
      "text/plain": [
       "85"
      ]
     },
     "execution_count": 5,
     "metadata": {},
     "output_type": "execute_result"
    }
   ],
   "source": [
    "#5.Write a Python program to generate a random number?\n",
    "\n",
    "import random\n",
    "\n",
    "def generate_random_number():\n",
    "  \"\"\"Generates a random number between 1 and 100.\"\"\"\n",
    "  return random.randint(1, 100)\n",
    "\n",
    "generate_random_number()"
   ]
  },
  {
   "cell_type": "code",
   "execution_count": null,
   "id": "3d49a1e7",
   "metadata": {},
   "outputs": [],
   "source": []
  }
 ],
 "metadata": {
  "kernelspec": {
   "display_name": "Python 3 (ipykernel)",
   "language": "python",
   "name": "python3"
  },
  "language_info": {
   "codemirror_mode": {
    "name": "ipython",
    "version": 3
   },
   "file_extension": ".py",
   "mimetype": "text/x-python",
   "name": "python",
   "nbconvert_exporter": "python",
   "pygments_lexer": "ipython3",
   "version": "3.9.13"
  }
 },
 "nbformat": 4,
 "nbformat_minor": 5
}
