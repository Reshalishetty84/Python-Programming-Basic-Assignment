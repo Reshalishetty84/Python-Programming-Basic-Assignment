{
 "cells": [
  {
   "cell_type": "code",
   "execution_count": 1,
   "id": "bcb4d428",
   "metadata": {},
   "outputs": [
    {
     "name": "stdout",
     "output_type": "stream",
     "text": [
      "Enter first number: 12\n",
      "Enter second number: 18\n"
     ]
    },
    {
     "data": {
      "text/plain": [
       "'The L.C.M. is 36'"
      ]
     },
     "execution_count": 1,
     "metadata": {},
     "output_type": "execute_result"
    }
   ],
   "source": [
    "#1.Write a Python Program to Find LCM?\n",
    "\n",
    "def compute_lcm():\n",
    "    num1=int(input(\"Enter first number: \"))\n",
    "    num2=int(input(\"Enter second number: \"))\n",
    "    if num1>num2:\n",
    "        greater=num1\n",
    "    else:\n",
    "        greater=num2\n",
    "    while(True):\n",
    "        if ((greater % num1==0) and (greater % num2==0)):\n",
    "            lcm=greater\n",
    "            break\n",
    "        greater+=1\n",
    "    return \"The L.C.M. is {}\".format(lcm)\n",
    "  \n",
    "    \n",
    "compute_lcm()"
   ]
  },
  {
   "cell_type": "code",
   "execution_count": 2,
   "id": "2630306c",
   "metadata": {},
   "outputs": [
    {
     "name": "stdout",
     "output_type": "stream",
     "text": [
      "Enter first number: 300\n",
      "Enter second number: 400\n"
     ]
    },
    {
     "data": {
      "text/plain": [
       "'The H.C.F is 100'"
      ]
     },
     "execution_count": 2,
     "metadata": {},
     "output_type": "execute_result"
    }
   ],
   "source": [
    "#2.Write a Python Program to Find HCF?\n",
    "\n",
    "def compute_hcf():\n",
    "    n1=int(input(\"Enter first number: \"))\n",
    "    n2=int(input(\"Enter second number: \"))\n",
    "    firstlist=set()\n",
    "    secondlist=set()\n",
    "    if n1>n2:\n",
    "        greater=n1\n",
    "    else:greater=n2\n",
    "    for i in range(1,greater+1):\n",
    "        if n1%i==0:\n",
    "            firstlist.add(i)\n",
    "        if n2%i==0:\n",
    "            secondlist.add(i)\n",
    "    return \"The H.C.F is {}\".format(max(firstlist&secondlist))\n",
    "  \n",
    "    \n",
    "compute_hcf()"
   ]
  },
  {
   "cell_type": "code",
   "execution_count": 3,
   "id": "5bc0f85c",
   "metadata": {},
   "outputs": [
    {
     "name": "stdout",
     "output_type": "stream",
     "text": [
      "Enter a number: 344\n",
      "The decimal value of 344 is:\n",
      "0b101011000 in binary.\n",
      "0o530 in octal.\n",
      "0x158 in hexadecimal.\n"
     ]
    }
   ],
   "source": [
    "#3.Write a Python Program to Convert Decimal to Binary, Octal and Hexadecimal?\n",
    "\n",
    "def Decimal_OtherNumberSystem():\n",
    "    decimal=int(input(\"Enter a number: \"))\n",
    "    print(\"The decimal value of\", decimal, \"is:\")\n",
    "    print(bin(decimal), \"in binary.\")\n",
    "    print(oct(decimal), \"in octal.\")\n",
    "    print(hex(decimal), \"in hexadecimal.\")\n",
    "\n",
    "Decimal_OtherNumberSystem()"
   ]
  },
  {
   "cell_type": "code",
   "execution_count": 4,
   "id": "adb14fc9",
   "metadata": {},
   "outputs": [
    {
     "name": "stdout",
     "output_type": "stream",
     "text": [
      "Enter a charcter: p\n"
     ]
    },
    {
     "data": {
      "text/plain": [
       "'ASCII value of character p is 112'"
      ]
     },
     "execution_count": 4,
     "metadata": {},
     "output_type": "execute_result"
    }
   ],
   "source": [
    "#4.Write a Python Program To Find ASCII value of a character?\n",
    "\n",
    "def ASCII():\n",
    "    character=input(\"Enter a charcter: \")\n",
    "    return \"ASCII value of character {} is {}\".format(character,ord(character))\n",
    "    \n",
    "    \n",
    "ASCII()    "
   ]
  },
  {
   "cell_type": "code",
   "execution_count": 5,
   "id": "d96b0173",
   "metadata": {},
   "outputs": [
    {
     "name": "stdout",
     "output_type": "stream",
     "text": [
      "Select Operation:\n",
      "1 for Addition\n",
      "2 for Subtraction\n",
      "3 for Multiplication\n",
      "4 for Division\n",
      "4\n",
      "Enter first number: 36\n",
      "Enter first number: 6\n"
     ]
    },
    {
     "data": {
      "text/plain": [
       "'Division of 36.0 and 6.0 is 6.0'"
      ]
     },
     "execution_count": 5,
     "metadata": {},
     "output_type": "execute_result"
    }
   ],
   "source": [
    "#5.Write a Python Program to Make a Simple Calculator with 4 basic mathematical operations?\n",
    "\n",
    "def Basic_Calculator():\n",
    "    option=int(input(\"Select Operation:\\n1 for Addition\\n2 for Subtraction\\n3 for Multiplication\\n4 for Division\\n\"))\n",
    "    num1=float(input(\"Enter first number: \"))\n",
    "    num2=float(input(\"Enter first number: \"))\n",
    "    if option==1:\n",
    "        return \"Addition of {} and {} is {}\".format(num1,num2,num1+num2)\n",
    "    elif option==2:\n",
    "        return \"Subtraction of {} and {} is {}\".format(num1,num2,num1-num2)\n",
    "    elif option==3:\n",
    "        return \"Multiplication of {} and {} is {}\".format(num1,num2,num1*num2)\n",
    "    elif option==4:\n",
    "        return \"Division of {} and {} is {}\".format(num1,num2,num1/num2)\n",
    "    else:\n",
    "        return \"Please enter the correct option\"\n",
    "            \n",
    "Basic_Calculator()"
   ]
  },
  {
   "cell_type": "code",
   "execution_count": null,
   "id": "0ed636a0",
   "metadata": {},
   "outputs": [],
   "source": []
  }
 ],
 "metadata": {
  "kernelspec": {
   "display_name": "Python 3 (ipykernel)",
   "language": "python",
   "name": "python3"
  },
  "language_info": {
   "codemirror_mode": {
    "name": "ipython",
    "version": 3
   },
   "file_extension": ".py",
   "mimetype": "text/x-python",
   "name": "python",
   "nbconvert_exporter": "python",
   "pygments_lexer": "ipython3",
   "version": "3.9.13"
  }
 },
 "nbformat": 4,
 "nbformat_minor": 5
}
