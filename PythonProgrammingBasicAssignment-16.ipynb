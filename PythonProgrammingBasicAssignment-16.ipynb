{
 "cells": [
  {
   "cell_type": "code",
   "execution_count": 1,
   "id": "5a38ca56",
   "metadata": {},
   "outputs": [
    {
     "name": "stdout",
     "output_type": "stream",
     "text": [
      "Enter the string:incredible\n"
     ]
    },
    {
     "data": {
      "text/plain": [
       "'in... in... incredible?'"
      ]
     },
     "execution_count": 1,
     "metadata": {},
     "output_type": "execute_result"
    }
   ],
   "source": [
    "#1.Write a function that stutters a word as if someone is struggling to read it. The first two letters are repeated twice with an ellipsis ... and space after each, and then the word is pronounced with a question mark ?.\n",
    "#Examples\n",
    "#stutter(\"incredible\") ➞ \"in... in... incredible?\"\n",
    "#stutter(\"enthusiastic\") ➞ \"en... en... enthusiastic?\"\n",
    "#stutter(\"outstanding\") ➞ \"ou... ou... outstanding?\"\n",
    "#Hint :- Assume all input is in lower case and at least two characters long.\n",
    "\n",
    "def stutter():\n",
    "    string=input(\"Enter the string:\")\n",
    "    first_letters=string[:2]\n",
    "    return first_letters+'... '+first_letters+'... '+string+\"?\"\n",
    "\n",
    "stutter()"
   ]
  },
  {
   "cell_type": "code",
   "execution_count": 2,
   "id": "20672358",
   "metadata": {},
   "outputs": [
    {
     "name": "stdout",
     "output_type": "stream",
     "text": [
      "Enter the radian:1\n"
     ]
    },
    {
     "data": {
      "text/plain": [
       "57.3"
      ]
     },
     "execution_count": 2,
     "metadata": {},
     "output_type": "execute_result"
    }
   ],
   "source": [
    "#2.Create a function that takes an angle in radians and returns the corresponding angle in degrees rounded to one decimal place.\n",
    "#Examples\n",
    "#radians_to_degrees(1) ➞ 57.3\n",
    "#radians_to_degrees(20) ➞ 1145.9\n",
    "#radians_to_degrees(50) ➞ 2864.8\n",
    "\n",
    "import numpy as np\n",
    "def radians_to_degrees():\n",
    "    rad=int(input(\"Enter the radian:\"))\n",
    "    return round(np.rad2deg(rad),1)\n",
    "\n",
    "radians_to_degrees()"
   ]
  },
  {
   "cell_type": "code",
   "execution_count": 3,
   "id": "aca9b6e0",
   "metadata": {},
   "outputs": [
    {
     "name": "stdout",
     "output_type": "stream",
     "text": [
      "Enter a number:5\n",
      "33 is a multiple of 11\n"
     ]
    },
    {
     "data": {
      "text/plain": [
       "True"
      ]
     },
     "execution_count": 3,
     "metadata": {},
     "output_type": "execute_result"
    }
   ],
   "source": [
    "#3.In this challenge, establish if a given integer num is a Curzon number. If 1 plus 2 elevated to num is exactly divisible by 1 plus 2 multiplied by num, then num is a Curzon number.\n",
    "#Given a non-negative integer num, implement a function that returns True if num is a Curzon number, or False otherwise.\n",
    "#Examples\n",
    "#is_curzon(5) ➞ True\n",
    "# 2 ** 5 + 1 = 33\n",
    "# 2 * 5 + 1 = 11\n",
    "# 33 is a multiple of 11\n",
    "\n",
    "#is_curzon(10) ➞ False\n",
    "# 2 ** 10 + 1 = 1025\n",
    "# 2 * 10 + 1 = 21\n",
    "# 1025 is not a multiple of 21\n",
    "\n",
    "#is_curzon(14) ➞ True\n",
    "# 2 ** 14 + 1 = 16385\n",
    "# 2 * 14 + 1 = 29\n",
    "# 16385 is a multiple of 29\n",
    "\n",
    "def is_curzon():\n",
    "    num=int(input(\"Enter a number:\"))\n",
    "    Power=2**num+1\n",
    "    multiply=2*num+1\n",
    "    if Power%multiply==0:\n",
    "        print(Power,\"is a multiple of\",multiply)\n",
    "        return True\n",
    "    else:\n",
    "        print(Power,\"is not a multiple of\",multiply)\n",
    "        return False\n",
    "    \n",
    "is_curzon()"
   ]
  },
  {
   "cell_type": "code",
   "execution_count": 4,
   "id": "9ad51166",
   "metadata": {},
   "outputs": [
    {
     "name": "stdout",
     "output_type": "stream",
     "text": [
      "Enter the number:1\n"
     ]
    },
    {
     "data": {
      "text/plain": [
       "2.6"
      ]
     },
     "execution_count": 4,
     "metadata": {},
     "output_type": "execute_result"
    }
   ],
   "source": [
    "#4.Given the side length x find the area of a hexagon.\n",
    "#Examples\n",
    "#area_of_hexagon(1) ➞ 2.6\n",
    "#area_of_hexagon(2) ➞ 10.4\n",
    "#area_of_hexagon(3) ➞ 23.4\n",
    "\n",
    "import math\n",
    "def area_of_hexagon():\n",
    "    num=int(input(\"Enter the number:\"))\n",
    "    return round((3*math.sqrt(3)*num**2)/2,1)\n",
    "\n",
    "area_of_hexagon()"
   ]
  },
  {
   "cell_type": "code",
   "execution_count": 5,
   "id": "f83657e3",
   "metadata": {
    "scrolled": true
   },
   "outputs": [
    {
     "name": "stdout",
     "output_type": "stream",
     "text": [
      "1\n",
      "101\n",
      "1010\n"
     ]
    }
   ],
   "source": [
    "#5.Create a function that returns a base-2 (binary) representation of a base-10 (decimal) string number. To convert is simple: ((2) means base-2 and (10) means base-10) 010101001(2) = 1 + 8 + 32 + 128.\n",
    "#Going from right to left, the value of the most right bit is 1, now from that every bit to the left will be x2 the value, value of an 8 bit binary numbers are (256, 128, 64, 32, 16, 8, 4, 2, 1).\n",
    "#Examples\n",
    "#binary(1) ➞ \"1\"\n",
    "# 1*1 = 1\n",
    "\n",
    "#binary(5) ➞ \"101\"\n",
    "# 1*1 + 1*4 = 5\n",
    "\n",
    "#binary(10) ➞ \"1010\"\n",
    "# 1*2 + 1*8 = 10\n",
    "\n",
    "def binary(decimal):\n",
    "    if decimal == 0:\n",
    "        return \"0\"\n",
    "\n",
    "    binary_representation = \"\"\n",
    "    while decimal > 0:\n",
    "        remainder = decimal % 2\n",
    "        binary_representation = str(remainder) + binary_representation\n",
    "        decimal //= 2\n",
    "\n",
    "    return binary_representation\n",
    "\n",
    "# Examples\n",
    "print(binary(1))  \n",
    "print(binary(5))    \n",
    "print(binary(10))   \n",
    "\n",
    "    "
   ]
  },
  {
   "cell_type": "code",
   "execution_count": null,
   "id": "df4081ad",
   "metadata": {},
   "outputs": [],
   "source": []
  }
 ],
 "metadata": {
  "kernelspec": {
   "display_name": "Python 3 (ipykernel)",
   "language": "python",
   "name": "python3"
  },
  "language_info": {
   "codemirror_mode": {
    "name": "ipython",
    "version": 3
   },
   "file_extension": ".py",
   "mimetype": "text/x-python",
   "name": "python",
   "nbconvert_exporter": "python",
   "pygments_lexer": "ipython3",
   "version": "3.9.13"
  }
 },
 "nbformat": 4,
 "nbformat_minor": 5
}
