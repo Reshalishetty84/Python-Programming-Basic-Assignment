{
 "cells": [
  {
   "cell_type": "code",
   "execution_count": 1,
   "id": "589b48cc",
   "metadata": {},
   "outputs": [
    {
     "data": {
      "text/plain": [
       "[1, 2, 5, 6, 7, 8, 10, 11, 12]"
      ]
     },
     "execution_count": 1,
     "metadata": {},
     "output_type": "execute_result"
    }
   ],
   "source": [
    "#1.Write a Python program to Extract Unique values dictionary values?\n",
    "\n",
    "def unique_dictionary_values(dictionary):\n",
    "    return list({ele for val in dictionary.values() for ele in val})\n",
    "\n",
    "unique_dictionary_values({'gfg': [5, 6, 7, 8],'is': [10, 11, 7, 5],'best': [6, 12, 10, 8],'for': [1, 2, 5]})"
   ]
  },
  {
   "cell_type": "code",
   "execution_count": 2,
   "id": "11724013",
   "metadata": {},
   "outputs": [
    {
     "data": {
      "text/plain": [
       "83"
      ]
     },
     "execution_count": 2,
     "metadata": {},
     "output_type": "execute_result"
    }
   ],
   "source": [
    "#2.Write a Python program to find the sum of all items in a dictionary?\n",
    "\n",
    "def unique_dictionary_values(dictionary):\n",
    "    l=[]\n",
    "    for val in dictionary.values():\n",
    "        if type(val)==list or type(val)==tuple:\n",
    "            for j in val:\n",
    "                l.append(j)\n",
    "        else:\n",
    "            l.append(val)\n",
    "    return sum(l)\n",
    "\n",
    "unique_dictionary_values({'gfg': 6,'is': (10, 11, 7, 5),'best': [6, 12, 10, 8],'for': [1, 2, 5]})"
   ]
  },
  {
   "cell_type": "code",
   "execution_count": 3,
   "id": "a58ee24d",
   "metadata": {},
   "outputs": [
    {
     "data": {
      "text/plain": [
       "{1: 'a', 2: 'c', 4: 'd'}"
      ]
     },
     "execution_count": 3,
     "metadata": {},
     "output_type": "execute_result"
    }
   ],
   "source": [
    "#3.Write a Python program to Merging two Dictionaries?\n",
    "\n",
    "dic1 = {1: 'a', 2: 'b'}\n",
    "dic2 = {2: 'c', 4: 'd'}\n",
    "def merge_dictionary(dic1,dic2):\n",
    "    return {**dic1, **dic2}\n",
    "\n",
    "merge_dictionary(dic1,dic2)"
   ]
  },
  {
   "cell_type": "code",
   "execution_count": 4,
   "id": "fb59816e",
   "metadata": {},
   "outputs": [
    {
     "data": {
      "text/plain": [
       "{'Jan': 1, 'Feb': 2, 'March': 3}"
      ]
     },
     "execution_count": 4,
     "metadata": {},
     "output_type": "execute_result"
    }
   ],
   "source": [
    "#4.Write a Python program to convert key-values list to flat dictionary?\n",
    "\n",
    "def key_value_flatdictionary(d):\n",
    "    x=list(d.values())\n",
    "    a=x[0]\n",
    "    b=x[1]\n",
    "    d=dict()\n",
    "    for i in range(0,len(a)):\n",
    "        d[a[i]]=b[i]\n",
    "    return d\n",
    "\n",
    "key_value_flatdictionary({'name': ['Jan','Feb','March'],'month': [1, 2, 3]} )"
   ]
  },
  {
   "cell_type": "code",
   "execution_count": 5,
   "id": "b4c7a007",
   "metadata": {},
   "outputs": [
    {
     "data": {
      "text/plain": [
       "OrderedDict([('manjeet', '4'),\n",
       "             ('akash', '4'),\n",
       "             ('akshat', '1'),\n",
       "             ('nikhil', '2')])"
      ]
     },
     "execution_count": 5,
     "metadata": {},
     "output_type": "execute_result"
    }
   ],
   "source": [
    "#5.Write a Python program to insertion at the beginning in OrderedDict?\n",
    "\n",
    "from collections import OrderedDict\n",
    "def insert_beginning_ordereddict(ini_dict1,ini_dict2):\n",
    "    return OrderedDict(list(ini_dict2.items()) + list(ini_dict1.items()))\n",
    "\n",
    "insert_beginning_ordereddict(OrderedDict([('akshat', '1'), ('nikhil', '2')]),OrderedDict([(\"manjeet\", '4'), (\"akash\", '4')]))"
   ]
  },
  {
   "cell_type": "code",
   "execution_count": 6,
   "id": "5ee64f8e",
   "metadata": {},
   "outputs": [
    {
     "name": "stdout",
     "output_type": "stream",
     "text": [
      "The order of character in string is true\n"
     ]
    }
   ],
   "source": [
    "#6.Write a Python program to check order of character in string using OrderedDict()?\n",
    "\n",
    "from collections import OrderedDict\n",
    " \n",
    "def checkOrder(input, pattern):\n",
    "    dict = OrderedDict.fromkeys(input)\n",
    "    ptrlen = 0\n",
    "    for key,value in dict.items():\n",
    "        if (key == pattern[ptrlen]):\n",
    "            ptrlen = ptrlen + 1\n",
    "        if (ptrlen == (len(pattern))):\n",
    "            return 'The order of character in string is true'\n",
    "    return 'The order of character in string is true'\n",
    "\n",
    "# Driver program\n",
    "if __name__ == \"__main__\":\n",
    "    input = 'engineers rock'\n",
    "    pattern = 'er'\n",
    "    print (checkOrder(input,pattern))"
   ]
  },
  {
   "cell_type": "code",
   "execution_count": 7,
   "id": "529acf59",
   "metadata": {},
   "outputs": [
    {
     "data": {
      "text/plain": [
       "{'rajnish': 9, 'ravi': 10, 'sanjeev': 15, 'suraj': 32, 'yash': 2}"
      ]
     },
     "execution_count": 7,
     "metadata": {},
     "output_type": "execute_result"
    }
   ],
   "source": [
    "#7.Write a Python program to sort Python Dictionaries by Key or Value?\n",
    "\n",
    "def dictkey_sorting(myDict):\n",
    "    myKeys = list(myDict.keys())\n",
    "    myKeys.sort()\n",
    "    sorted_dict = {i: myDict[i] for i in myKeys}\n",
    "    return sorted_dict\n",
    "\n",
    "dictkey_sorting({'ravi': 10, 'rajnish': 9,'sanjeev': 15, 'yash': 2, 'suraj': 32})"
   ]
  },
  {
   "cell_type": "code",
   "execution_count": null,
   "id": "10dc8f45",
   "metadata": {},
   "outputs": [],
   "source": []
  }
 ],
 "metadata": {
  "kernelspec": {
   "display_name": "Python 3 (ipykernel)",
   "language": "python",
   "name": "python3"
  },
  "language_info": {
   "codemirror_mode": {
    "name": "ipython",
    "version": 3
   },
   "file_extension": ".py",
   "mimetype": "text/x-python",
   "name": "python",
   "nbconvert_exporter": "python",
   "pygments_lexer": "ipython3",
   "version": "3.9.13"
  }
 },
 "nbformat": 4,
 "nbformat_minor": 5
}
