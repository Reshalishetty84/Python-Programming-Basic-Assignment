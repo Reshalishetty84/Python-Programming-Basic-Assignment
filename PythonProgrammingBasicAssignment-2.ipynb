{
 "cells": [
  {
   "cell_type": "code",
   "execution_count": 1,
   "id": "4b74b72f",
   "metadata": {},
   "outputs": [
    {
     "data": {
      "text/plain": [
       "'8 kilometers is equal to 4.970968 miles'"
      ]
     },
     "execution_count": 1,
     "metadata": {},
     "output_type": "execute_result"
    }
   ],
   "source": [
    "#1.Write a Python program to convert kilometers to miles?\n",
    "\n",
    "def Kilometer_To_Miles(kilometers):\n",
    "    miles=kilometers*0.621371\n",
    "    return \"{} kilometers is equal to {} miles\".format(kilometers, miles)\n",
    "\n",
    "Kilometer_To_Miles(8)"
   ]
  },
  {
   "cell_type": "code",
   "execution_count": 2,
   "id": "eef3a707",
   "metadata": {},
   "outputs": [
    {
     "data": {
      "text/plain": [
       "'1 Celsius is equal to 33.8 Fahrenheit'"
      ]
     },
     "execution_count": 2,
     "metadata": {},
     "output_type": "execute_result"
    }
   ],
   "source": [
    "#2.Write a Python program to convert Celsius to Fahrenheit?\n",
    "\n",
    "def Celsius_To_Fahrenheit(Celsius):\n",
    "    Fahrenheit=(Celsius*1.8)+32\n",
    "    return \"{} Celsius is equal to {} Fahrenheit\".format(Celsius, Fahrenheit)\n",
    "\n",
    "Celsius_To_Fahrenheit(1)"
   ]
  },
  {
   "cell_type": "code",
   "execution_count": 3,
   "id": "fd0230de",
   "metadata": {},
   "outputs": [
    {
     "name": "stdout",
     "output_type": "stream",
     "text": [
      "Enter the year: 2023\n",
      "Enter the month: 7\n",
      "     July 2023\n",
      "Mo Tu We Th Fr Sa Su\n",
      "                1  2\n",
      " 3  4  5  6  7  8  9\n",
      "10 11 12 13 14 15 16\n",
      "17 18 19 20 21 22 23\n",
      "24 25 26 27 28 29 30\n",
      "31\n",
      "\n"
     ]
    }
   ],
   "source": [
    "#3.Write a Python program to display calendar?\n",
    "\n",
    "import calendar\n",
    "def print_calendar():\n",
    "    year=int(input(\"Enter the year: \"))\n",
    "    month=int(input(\"Enter the month: \"))\n",
    "    print(calendar.month(year, month))\n",
    "\n",
    "print_calendar()"
   ]
  },
  {
   "cell_type": "code",
   "execution_count": 4,
   "id": "6a863eb6",
   "metadata": {},
   "outputs": [
    {
     "name": "stdout",
     "output_type": "stream",
     "text": [
      "Enter a: 8\n",
      "Enter b: 5\n",
      "Enter c: 9\n",
      "The solution are (-0.3125-1.0135796712641785j) and (-0.3125+1.0135796712641785j)\n"
     ]
    }
   ],
   "source": [
    "#4.Write a Python program to solve quadratic equation?\n",
    "\n",
    "import cmath  \n",
    "def quadratic_equation():\n",
    "    a = float(input('Enter a: '))  \n",
    "    b = float(input('Enter b: '))  \n",
    "    c = float(input('Enter c: '))  \n",
    "    # calculate the discriminant  \n",
    "    d = (b**2) - (4*a*c)  \n",
    "    # find two solutions  \n",
    "    sol1 = (-b-cmath.sqrt(d))/(2*a)  \n",
    "    sol2 = (-b+cmath.sqrt(d))/(2*a)  \n",
    "    print('The solution are {0} and {1}'.format(sol1,sol2)) \n",
    "    \n",
    "quadratic_equation()"
   ]
  },
  {
   "cell_type": "code",
   "execution_count": 5,
   "id": "671d2a5f",
   "metadata": {},
   "outputs": [
    {
     "name": "stdout",
     "output_type": "stream",
     "text": [
      "Enter a first number: 4\n",
      "Enter a second number: 5\n"
     ]
    },
    {
     "data": {
      "text/plain": [
       "'The numbers after swapping are 5 and 4'"
      ]
     },
     "execution_count": 5,
     "metadata": {},
     "output_type": "execute_result"
    }
   ],
   "source": [
    "#5.Write a Python program to swap two variables without temp variable?\n",
    "\n",
    "def Swap():\n",
    "    a=int(input(\"Enter a first number: \"))\n",
    "    b=int(input(\"Enter a second number: \"))\n",
    "    a,b=b,a\n",
    "    return \"The numbers after swapping are {} and {}\".format(a,b)\n",
    "\n",
    "Swap()"
   ]
  },
  {
   "cell_type": "code",
   "execution_count": null,
   "id": "f26fab24",
   "metadata": {},
   "outputs": [],
   "source": []
  }
 ],
 "metadata": {
  "kernelspec": {
   "display_name": "Python 3 (ipykernel)",
   "language": "python",
   "name": "python3"
  },
  "language_info": {
   "codemirror_mode": {
    "name": "ipython",
    "version": 3
   },
   "file_extension": ".py",
   "mimetype": "text/x-python",
   "name": "python",
   "nbconvert_exporter": "python",
   "pygments_lexer": "ipython3",
   "version": "3.9.13"
  }
 },
 "nbformat": 4,
 "nbformat_minor": 5
}
