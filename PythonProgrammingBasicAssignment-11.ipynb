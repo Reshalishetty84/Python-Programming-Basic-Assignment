{
 "cells": [
  {
   "cell_type": "code",
   "execution_count": 1,
   "id": "01b09b04",
   "metadata": {},
   "outputs": [
    {
     "name": "stdout",
     "output_type": "stream",
     "text": [
      "Enter the string: hello geeks for geeks is computer science portal\n",
      "Enter the number to find words which are greater than given length: 4\n",
      "The words which are greater than given length are:\n",
      "hello geeks geeks computer science portal "
     ]
    }
   ],
   "source": [
    "#1.Write a Python program to find words which are greater than given length k?\n",
    "\n",
    "def words_length():\n",
    "    word=input(\"Enter the string: \")\n",
    "    k=int(input(\"Enter the number to find words which are greater than given length: \"))\n",
    "    print(\"The words which are greater than given length are:\")\n",
    "    splitting=word.split(' ')\n",
    "    for i in splitting:\n",
    "        if len(i)>k:\n",
    "            print(i,end=\" \")\n",
    "            \n",
    "words_length()"
   ]
  },
  {
   "cell_type": "code",
   "execution_count": 2,
   "id": "fe4dcafb",
   "metadata": {},
   "outputs": [
    {
     "name": "stdout",
     "output_type": "stream",
     "text": [
      "Enter a string: peter\n",
      "Enter the index: 3\n"
     ]
    },
    {
     "data": {
      "text/plain": [
       "'After removing the character the string is petr'"
      ]
     },
     "execution_count": 2,
     "metadata": {},
     "output_type": "execute_result"
    }
   ],
   "source": [
    "#2.Write a Python program for removing i-th character from a string?\n",
    "\n",
    "def remove_ith_character():\n",
    "    string=input(\"Enter a string: \")\n",
    "    index=int(input(\"Enter the index: \"))\n",
    "    l=[]\n",
    "    for i in string:\n",
    "        l.append(i)\n",
    "    l.pop(index)\n",
    "    return \"After removing the character the string is {}\".format(''.join(l))\n",
    "\n",
    "remove_ith_character()"
   ]
  },
  {
   "cell_type": "code",
   "execution_count": 3,
   "id": "614327fc",
   "metadata": {},
   "outputs": [
    {
     "name": "stdout",
     "output_type": "stream",
     "text": [
      "Enter a string: tit for tat\n",
      "Splitting the string: ['tit', 'for', 'tat']\n",
      "Joining the string: tit-for-tat\n"
     ]
    }
   ],
   "source": [
    "#3.Write a Python program to split and join a string?\n",
    "\n",
    "def split_join():\n",
    "    string=input(\"Enter a string: \")\n",
    "    print(\"Splitting the string:\",string.split(' '))\n",
    "    print(\"Joining the string:\",'-'.join(string.split(' ')))\n",
    "    \n",
    "split_join()"
   ]
  },
  {
   "cell_type": "code",
   "execution_count": 4,
   "id": "5245438d",
   "metadata": {},
   "outputs": [
    {
     "name": "stdout",
     "output_type": "stream",
     "text": [
      "Enter a string: 101011\n",
      "Binary string\n"
     ]
    }
   ],
   "source": [
    "#4.Write a Python to check if a given string is binary string or not?\n",
    "\n",
    "def binary_string():\n",
    "    string=input(\"Enter a string: \")\n",
    "    p=set(string)\n",
    "    s={'0','1'}\n",
    "    if p==s or p=={'0'} or p=={'1'}:\n",
    "        print(\"Binary string\")\n",
    "    else:\n",
    "        print(\"Not a binary string\")\n",
    "        \n",
    "binary_string()"
   ]
  },
  {
   "cell_type": "code",
   "execution_count": 5,
   "id": "9ae8a6de",
   "metadata": {},
   "outputs": [
    {
     "name": "stdout",
     "output_type": "stream",
     "text": [
      "Enter the first string: Geeks for Geeks\n",
      "Enter the second string: Learning from Geeks for Geeks\n"
     ]
    },
    {
     "data": {
      "text/plain": [
       "\"The uncommon words from two strings are : ['from', 'Learning']\""
      ]
     },
     "execution_count": 5,
     "metadata": {},
     "output_type": "execute_result"
    }
   ],
   "source": [
    "#5.Write a Python program to find uncommon words from two Strings?\n",
    "\n",
    "def uncommon_words():\n",
    "    firststring=input(\"Enter the first string: \")\n",
    "    secondstring=input(\"Enter the second string: \")\n",
    "    firstsplit,secondsplit=firststring.split(' '),secondstring.split(' ')\n",
    "    return \"The uncommon words from two strings are : {}\".format(list(set(firstsplit).symmetric_difference(set(secondsplit))))\n",
    "\n",
    "uncommon_words()"
   ]
  },
  {
   "cell_type": "code",
   "execution_count": 6,
   "id": "46a7d577",
   "metadata": {},
   "outputs": [
    {
     "name": "stdout",
     "output_type": "stream",
     "text": [
      "Enter the string: hello\n",
      "The duplicated characters in string are:\n"
     ]
    },
    {
     "data": {
      "text/plain": [
       "'l'"
      ]
     },
     "execution_count": 6,
     "metadata": {},
     "output_type": "execute_result"
    }
   ],
   "source": [
    "#6.Write a Python to find all duplicate characters in string?\n",
    "\n",
    "def duplicate_character():\n",
    "    string=input(\"Enter the string: \")\n",
    "    d,l=[],[]\n",
    "    print(\"The duplicated characters in string are:\")\n",
    "    for i in string:\n",
    "        if i not in l:\n",
    "            l.append(i)\n",
    "        else:\n",
    "            d.append(i)\n",
    "    return ' '.join(set(d))\n",
    "\n",
    "duplicate_character()"
   ]
  },
  {
   "cell_type": "code",
   "execution_count": 7,
   "id": "4fc82e0f",
   "metadata": {},
   "outputs": [
    {
     "name": "stdout",
     "output_type": "stream",
     "text": [
      "Enter the string: abcd@hik#!\n",
      "String contains special character\n"
     ]
    }
   ],
   "source": [
    "#7.Write a Python Program to check if a string contains any special character?\n",
    "\n",
    "def special_character():\n",
    "    import re\n",
    "    string=input(\"Enter the string: \")\n",
    "    regex = re.compile('[@_!#$%^&*()<>?/\\|}{~:]')\n",
    "    if(regex.search(string) == None):\n",
    "        print(\"String does not contain special character\")\n",
    "    else:\n",
    "        print(\"String contains special character\")\n",
    "    \n",
    "special_character() "
   ]
  },
  {
   "cell_type": "code",
   "execution_count": null,
   "id": "68f5b4ab",
   "metadata": {},
   "outputs": [],
   "source": []
  }
 ],
 "metadata": {
  "kernelspec": {
   "display_name": "Python 3 (ipykernel)",
   "language": "python",
   "name": "python3"
  },
  "language_info": {
   "codemirror_mode": {
    "name": "ipython",
    "version": 3
   },
   "file_extension": ".py",
   "mimetype": "text/x-python",
   "name": "python",
   "nbconvert_exporter": "python",
   "pygments_lexer": "ipython3",
   "version": "3.9.13"
  }
 },
 "nbformat": 4,
 "nbformat_minor": 5
}
