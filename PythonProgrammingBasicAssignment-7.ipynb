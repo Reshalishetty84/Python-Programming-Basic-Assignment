{
 "cells": [
  {
   "cell_type": "code",
   "execution_count": 1,
   "id": "9f289748",
   "metadata": {},
   "outputs": [
    {
     "name": "stdout",
     "output_type": "stream",
     "text": [
      "Enter the number of elements in array: 4\n",
      "12\n",
      "3\n",
      "4\n",
      "15\n"
     ]
    },
    {
     "data": {
      "text/plain": [
       "'The sum of array is 34'"
      ]
     },
     "execution_count": 1,
     "metadata": {},
     "output_type": "execute_result"
    }
   ],
   "source": [
    "#1.Write a Python Program to find sum of array?\n",
    "\n",
    "def Array_Sum():\n",
    "    total=0\n",
    "    arr=[]\n",
    "    num=int(input(\"Enter the number of elements in array: \"))\n",
    "    for j in range(1,num+1):\n",
    "        arr.append(int(input()))\n",
    "    for i in arr:\n",
    "        total+=i\n",
    "    return \"The sum of array is {}\".format(total)\n",
    "\n",
    "Array_Sum()"
   ]
  },
  {
   "cell_type": "code",
   "execution_count": 2,
   "id": "0f521c8c",
   "metadata": {},
   "outputs": [
    {
     "name": "stdout",
     "output_type": "stream",
     "text": [
      "Enter the number of elements in array: 5\n",
      "10\n",
      "324\n",
      "45\n",
      "90\n",
      "9808\n"
     ]
    },
    {
     "data": {
      "text/plain": [
       "'The largest element of array is 9808'"
      ]
     },
     "execution_count": 2,
     "metadata": {},
     "output_type": "execute_result"
    }
   ],
   "source": [
    "#2.Write a Python Program to find largest element in an array?\n",
    "\n",
    "def Largest_Element():\n",
    "    array=[]\n",
    "    num=int(input(\"Enter the number of elements in array: \"))\n",
    "    for j in range(1,num+1):\n",
    "        array.append(int(input()))\n",
    "    return \"The largest element of array is {}\".format(max(array))\n",
    "\n",
    "Largest_Element()"
   ]
  },
  {
   "cell_type": "code",
   "execution_count": 3,
   "id": "b8dc7f89",
   "metadata": {},
   "outputs": [
    {
     "name": "stdout",
     "output_type": "stream",
     "text": [
      "Enter the number of elements in array: 8\n",
      "1\n",
      "2\n",
      "3\n",
      "4\n",
      "5\n",
      "6\n",
      "7\n",
      "8\n",
      "The array before rotation is [1, 2, 3, 4, 5, 6, 7, 8]\n",
      "Enter the number of rotation: 3\n",
      "The array after rotation is [6, 7, 8, 1, 2, 3, 4, 5]\n"
     ]
    }
   ],
   "source": [
    "#3.Write a Python Program for array rotation?\n",
    "\n",
    "def array_rotation():\n",
    "    array=[]\n",
    "    num=int(input(\"Enter the number of elements in array: \"))\n",
    "    for j in range(1,num+1):\n",
    "        array.append(int(input()))\n",
    "    print(\"The array before rotation is\",array)\n",
    "    rotate=int(input(\"Enter the number of rotation: \"))\n",
    "    if rotate<=num:\n",
    "        AfterRotation = array[-rotate:] + array[:-rotate]\n",
    "        print(\"The array after rotation is\",AfterRotation)\n",
    "    else:\n",
    "        print(\"The rotation is greater than the length of the array\")\n",
    "    \n",
    "\n",
    "array_rotation()"
   ]
  },
  {
   "cell_type": "code",
   "execution_count": 4,
   "id": "683ee4ca",
   "metadata": {},
   "outputs": [
    {
     "name": "stdout",
     "output_type": "stream",
     "text": [
      "5 6 52 36 12 10 "
     ]
    }
   ],
   "source": [
    "#4.Write a Python Program to Split the array and add the first part to the end?\n",
    "\n",
    "def splitArr(arr, n, k):\n",
    "    for i in range(0, k):\n",
    "        x = arr[0]\n",
    "        for j in range(0, n-1):\n",
    "            arr[j] = arr[j + 1]\n",
    " \n",
    "        arr[n-1] = x\n",
    " \n",
    " \n",
    "# main\n",
    "arr = [12, 10, 5, 6, 52, 36]\n",
    "n = len(arr)\n",
    "position = 2\n",
    " \n",
    "splitArr(arr, n, position)\n",
    " \n",
    "for i in range(0, n):\n",
    "    print(arr[i], end=' ')\n",
    " "
   ]
  },
  {
   "cell_type": "code",
   "execution_count": 5,
   "id": "6d714ef6",
   "metadata": {},
   "outputs": [
    {
     "name": "stdout",
     "output_type": "stream",
     "text": [
      "Enter the number of elements in array: 4\n",
      "6\n",
      "5\n",
      "4\n",
      "4\n",
      "The array is [6, 5, 4, 4]\n",
      "The given array is monotonic\n"
     ]
    }
   ],
   "source": [
    "#5.Write a Python Program to check if given array is Monotonic?\n",
    "\n",
    "def Monotonic_array():\n",
    "    l=[]\n",
    "    num=int(input(\"Enter the number of elements in array: \"))\n",
    "    for j in range(1,num+1):\n",
    "        l.append(int(input()))\n",
    "    print(\"The array is\",l)\n",
    "    x, y = [], []\n",
    "    x.extend(l)\n",
    "    y.extend(l)\n",
    "    x.sort()\n",
    "    y.sort(reverse=True)\n",
    "    if x==l or y==l:\n",
    "        print(\"The given array is monotonic\")\n",
    "    else:\n",
    "        print(\"The given array is not monotonic\")\n",
    "    \n",
    "    \n",
    "Monotonic_array()"
   ]
  },
  {
   "cell_type": "code",
   "execution_count": null,
   "id": "10e31096",
   "metadata": {},
   "outputs": [],
   "source": []
  }
 ],
 "metadata": {
  "kernelspec": {
   "display_name": "Python 3 (ipykernel)",
   "language": "python",
   "name": "python3"
  },
  "language_info": {
   "codemirror_mode": {
    "name": "ipython",
    "version": 3
   },
   "file_extension": ".py",
   "mimetype": "text/x-python",
   "name": "python",
   "nbconvert_exporter": "python",
   "pygments_lexer": "ipython3",
   "version": "3.9.13"
  }
 },
 "nbformat": 4,
 "nbformat_minor": 5
}
