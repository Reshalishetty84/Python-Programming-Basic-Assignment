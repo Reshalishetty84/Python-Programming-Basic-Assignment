{
 "cells": [
  {
   "cell_type": "code",
   "execution_count": 1,
   "id": "13e91208",
   "metadata": {},
   "outputs": [
    {
     "name": "stdout",
     "output_type": "stream",
     "text": [
      "Enter a number: 6\n"
     ]
    },
    {
     "data": {
      "text/plain": [
       "720"
      ]
     },
     "execution_count": 1,
     "metadata": {},
     "output_type": "execute_result"
    }
   ],
   "source": [
    "#1.Write a Python Program to Find the Factorial of a Number?\n",
    "\n",
    "def Number_factorial():\n",
    "    num=int(input(\"Enter a number: \"))\n",
    "    factorial=1\n",
    "    for i in range(1,num+1):\n",
    "        factorial=i*factorial\n",
    "    return factorial\n",
    "    \n",
    "Number_factorial()"
   ]
  },
  {
   "cell_type": "code",
   "execution_count": 2,
   "id": "dff9210a",
   "metadata": {},
   "outputs": [
    {
     "name": "stdout",
     "output_type": "stream",
     "text": [
      "Enter a number for which you want the multiplication table: 3\n",
      "Enter a number from where you want to multiply: 1\n",
      "Enter a number till where you want to multiply: 20\n",
      "The multiplication table of 3 is\n",
      "3 * 1 = 3\n",
      "3 * 2 = 6\n",
      "3 * 3 = 9\n",
      "3 * 4 = 12\n",
      "3 * 5 = 15\n",
      "3 * 6 = 18\n",
      "3 * 7 = 21\n",
      "3 * 8 = 24\n",
      "3 * 9 = 27\n",
      "3 * 10 = 30\n",
      "3 * 11 = 33\n",
      "3 * 12 = 36\n",
      "3 * 13 = 39\n",
      "3 * 14 = 42\n",
      "3 * 15 = 45\n",
      "3 * 16 = 48\n",
      "3 * 17 = 51\n",
      "3 * 18 = 54\n",
      "3 * 19 = 57\n",
      "3 * 20 = 60\n"
     ]
    }
   ],
   "source": [
    "#2.Write a Python Program to Display the multiplication Table?\n",
    "\n",
    "def multiplication_table():\n",
    "    num=int(input(\"Enter a number for which you want the multiplication table: \"))\n",
    "    start=int(input(\"Enter a number from where you want to multiply: \"))\n",
    "    end=int(input(\"Enter a number till where you want to multiply: \"))\n",
    "    print(\"The multiplication table of {} is\".format(num))\n",
    "    mul=1\n",
    "    for i in range(start,end+1):\n",
    "        mul=i*num\n",
    "        print(\"{} * {} = {}\".format(num,i,mul))\n",
    "        \n",
    "multiplication_table()"
   ]
  },
  {
   "cell_type": "code",
   "execution_count": 3,
   "id": "f3fd5c37",
   "metadata": {},
   "outputs": [
    {
     "name": "stdout",
     "output_type": "stream",
     "text": [
      "Enter a number: 7\n",
      "Fibonacci sequence:\n",
      "0\n",
      "1\n",
      "1\n",
      "2\n",
      "3\n",
      "5\n",
      "8\n"
     ]
    }
   ],
   "source": [
    "#3.Write a Python Program to Print the Fibonacci sequence?\n",
    "\n",
    "def fibonacci_sequence():\n",
    "    num=int(input(\"Enter a number: \"))\n",
    "    # Program to display the Fibonacci sequence up to n-th term\n",
    "\n",
    "    # first two terms\n",
    "    n1, n2 = 0, 1\n",
    "    count = 0\n",
    "\n",
    "    # check if the number of terms is valid\n",
    "    if num <= 0:\n",
    "        print(\"Please enter a positive integer\")\n",
    "    # if there is only one term, return n1\n",
    "    elif num == 1:\n",
    "        print(\"Fibonacci sequence upto\",nterms,\":\")\n",
    "        print(n1)\n",
    "    # generate fibonacci sequence\n",
    "    else:\n",
    "        print(\"Fibonacci sequence:\")\n",
    "        while count < num:\n",
    "            print(n1)\n",
    "            nth = n1 + n2\n",
    "            # update values\n",
    "            n1 = n2\n",
    "            n2 = nth\n",
    "            count += 1\n",
    "        \n",
    "fibonacci_sequence()"
   ]
  },
  {
   "cell_type": "code",
   "execution_count": 4,
   "id": "c87874e8",
   "metadata": {},
   "outputs": [
    {
     "name": "stdout",
     "output_type": "stream",
     "text": [
      "Enter a number: 153\n",
      "The number 153 is a Armstrong Number\n"
     ]
    }
   ],
   "source": [
    "#4.Write a Python Program to Check Armstrong Number?\n",
    "\n",
    "def Armstrong_Number():\n",
    "    num=input(\"Enter a number: \")\n",
    "    total=0\n",
    "    for i in num:\n",
    "        mul=pow(int(i),3)\n",
    "        total+=mul\n",
    "    if total==int(num):\n",
    "        print(\"The number {} is a Armstrong Number\".format(int(num)))\n",
    "    else:\n",
    "        print(\"The number {} is not a Armstrong Number\".format(int(num)))\n",
    "        \n",
    "Armstrong_Number()    "
   ]
  },
  {
   "cell_type": "code",
   "execution_count": 5,
   "id": "3b8d2a76",
   "metadata": {},
   "outputs": [
    {
     "name": "stdout",
     "output_type": "stream",
     "text": [
      "Enter the start range: 100\n",
      "Enter the end range: 1000\n",
      "153\n",
      "370\n",
      "371\n",
      "407\n"
     ]
    }
   ],
   "source": [
    "#5.Write a Python Program to Find Armstrong Number in an Interval?\n",
    "\n",
    "def Armstrong_Number_Interval():\n",
    "    start=int(input(\"Enter the start range: \"))\n",
    "    end=int(input(\"Enter the end range: \"))\n",
    "    for i in range(start,end+1):\n",
    "        total=0\n",
    "        for j in str(i):\n",
    "            mul=pow(int(j),3)\n",
    "            total+=mul\n",
    "        if total==i:\n",
    "            print(total)\n",
    "            del total\n",
    "            \n",
    "            \n",
    "Armstrong_Number_Interval()"
   ]
  },
  {
   "cell_type": "code",
   "execution_count": 6,
   "id": "eccdd700",
   "metadata": {},
   "outputs": [
    {
     "name": "stdout",
     "output_type": "stream",
     "text": [
      "Enter the start range: 1\n",
      "Enter the end range: 10\n"
     ]
    },
    {
     "data": {
      "text/plain": [
       "'The sum of natural numbers from 1 to 10 is 55'"
      ]
     },
     "execution_count": 6,
     "metadata": {},
     "output_type": "execute_result"
    }
   ],
   "source": [
    "#6.Write a Python Program to Find the Sum of Natural Numbers?\n",
    "\n",
    "def Natural_Numbers_Sum():\n",
    "    NaturalList=[]\n",
    "    start=int(input(\"Enter the start range: \"))\n",
    "    end=int(input(\"Enter the end range: \"))\n",
    "    if start>0 and end>0:\n",
    "        for i in range(start,end+1):\n",
    "            NaturalList.append(i)\n",
    "        total=sum(NaturalList)\n",
    "        return \"The sum of natural numbers from {} to {} is {}\".format(start,end,total)\n",
    "    else:\n",
    "        return \"The number should be greater the zero\"\n",
    "    \n",
    "Natural_Numbers_Sum()"
   ]
  },
  {
   "cell_type": "code",
   "execution_count": null,
   "id": "b7ca9c9d",
   "metadata": {},
   "outputs": [],
   "source": []
  }
 ],
 "metadata": {
  "kernelspec": {
   "display_name": "Python 3 (ipykernel)",
   "language": "python",
   "name": "python3"
  },
  "language_info": {
   "codemirror_mode": {
    "name": "ipython",
    "version": 3
   },
   "file_extension": ".py",
   "mimetype": "text/x-python",
   "name": "python",
   "nbconvert_exporter": "python",
   "pygments_lexer": "ipython3",
   "version": "3.9.13"
  }
 },
 "nbformat": 4,
 "nbformat_minor": 5
}
